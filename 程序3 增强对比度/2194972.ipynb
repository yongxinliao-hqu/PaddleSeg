{
 "cells": [
  {
   "cell_type": "markdown",
   "metadata": {
    "collapsed": false
   },
   "source": [
    "## 0 创建文件夹"
   ]
  },
  {
   "cell_type": "code",
   "execution_count": 6,
   "metadata": {
    "collapsed": false
   },
   "outputs": [],
   "source": [
    "!mkdir source/\n",
    "!mkdir source/pred/\n",
    "# !mkdir source/pred_0730_solution16_31000_enlage_ORC_Aunk_B\n",
    "# !mkdir source/pred_0730_solution15_31000_enlage_dv3p_Aunk_B\n",
    "# !mkdir source/pred_0730_solution16_17500_Aunk_B\n",
    "# !mkdir source/0803_solution17_57500_Aunk_B\n",
    "!mkdir source/pred_0804_solution18_37600_Aunk_B\n",
    "# !mkdir source/0804_solution19_60000_Aunk_B\n",
    "!mkdir target/\n",
    "!mkdir target/pred/\n",
    "!mkdir target/test/"
   ]
  },
  {
   "cell_type": "markdown",
   "metadata": {
    "collapsed": false
   },
   "source": [
    "## 1 解压图片"
   ]
  },
  {
   "cell_type": "code",
   "execution_count": 7,
   "metadata": {
    "collapsed": false
   },
   "outputs": [],
   "source": [
    "# 解压原图片集\n",
    "# !unzip -oq pred_0730_solution16_31000_enlage_ORC_Aunk_B.zip -d source/\n",
    "# !unzip -oq pred_0730_solution15_31000_enlage_dv3p_Aunk_B.zip -d source/\n",
    "# !unzip -oq pred_0730_solution16_17500_Aunk_B.zip -d source/\n",
    "# !unzip -oq 0803_solution17_57500_Aunk_B.zip -d source/0803_solution17_57500_Aunk_B\n",
    "!unzip -oq pred_0804_solution18_37600_Aunk_B.zip -d source/\n",
    "# !unzip -oq 0804_solution19_60000_Aunk_B.zip -d source/0804_solution19_60000_Aunk_B"
   ]
  },
  {
   "cell_type": "markdown",
   "metadata": {
    "collapsed": false
   },
   "source": [
    "## 3 导入对应的库"
   ]
  },
  {
   "cell_type": "code",
   "execution_count": 8,
   "metadata": {
    "collapsed": false
   },
   "outputs": [],
   "source": [
    "import os\n",
    "from PIL import Image\n",
    "import matplotlib.pyplot as plt # plt 用于显示图片\n",
    "import matplotlib.image as mpimg # mpimg 用于读取图片\n",
    "import numpy as np\n",
    "import random\n",
    "import cv2"
   ]
  },
  {
   "cell_type": "markdown",
   "metadata": {
    "collapsed": false
   },
   "source": [
    "## 4 进行图片检查"
   ]
  },
  {
   "cell_type": "code",
   "execution_count": 9,
   "metadata": {
    "collapsed": false
   },
   "outputs": [
    {
     "name": "stdout",
     "output_type": "stream",
     "text": [
      "10989\n",
      "ILSVRC2012_val_00000007.png\n",
      "ILSVRC2012_val_00000012.png\n",
      "source/pred_0804_solution18_37600_Aunk_B/ILSVRC2012_val_00000007.png\n",
      "source/pred_0804_solution18_37600_Aunk_B/ILSVRC2012_val_00000012.png\n",
      "10989\n",
      "ILSVRC2012_val_00000007.png\n",
      "ILSVRC2012_val_00000012.png\n",
      "source/pred_0804_solution18_37600_Aunk_B/ILSVRC2012_val_00000007.png\n",
      "source/pred_0804_solution18_37600_Aunk_B/ILSVRC2012_val_00000012.png\n",
      "##############################\n"
     ]
    }
   ],
   "source": [
    "# image_file_path1 = \"pred_0730_solution16_31000_enlage_ORC_Aunk_B\"\n",
    "# image_file_path2 = \"pred_0730_solution15_31000_enlage_dv3p_Aunk_B\"\n",
    "# image_file_path3 = \"pred_0730_solution16_17500_Aunk_B\"\n",
    "# image_file_path4 = \"0803_solution17_57500_Aunk_B\"\n",
    "image_file_path5 = \"pred_0804_solution18_37600_Aunk_B\"\n",
    "# image_file_path6 = \"0804_solution19_60000_Aunk_B\"\n",
    "\n",
    "def check_image_num(temp_path): # 首先检查一下共有多少个图片\n",
    "    image_file_path = \"source/\" + temp_path\n",
    "    file_names = os.listdir(image_file_path)\n",
    "    file_names = sorted(file_names)\n",
    "    print(len(file_names))\n",
    "    print(file_names[0])\n",
    "    print(file_names[1])\n",
    "    print(os.path.join(image_file_path, file_names[0]) )\n",
    "    print(os.path.join(image_file_path, file_names[1]) )\n",
    "    # 去除非图片文件\n",
    "    for index, fn in enumerate(file_names):\n",
    "        if '.png' not in fn:\n",
    "            del(file_names[index])\n",
    "\n",
    "    print(len(file_names))\n",
    "    print(file_names[0])\n",
    "    print(file_names[1])\n",
    "    print(os.path.join(image_file_path, file_names[0]) )\n",
    "    print(os.path.join(image_file_path, file_names[1]) )\n",
    "    print(\"##############################\")\n",
    "    return file_names\n",
    "\n",
    "# file_names1 = check_image_num(image_file_path1)\n",
    "# file_names2 = check_image_num(image_file_path2)\n",
    "# file_names3 = check_image_num(image_file_path3)\n",
    "# file_names4 = check_image_num(image_file_path4)\n",
    "file_names5 = check_image_num(image_file_path5)\n",
    "# file_names6 = check_image_num(image_file_path6)"
   ]
  },
  {
   "cell_type": "code",
   "execution_count": 10,
   "metadata": {
    "collapsed": false
   },
   "outputs": [],
   "source": [
    "# 显示图片函数\n",
    "def show_image(image_1):\n",
    "    lena = mpimg.imread(image_1,0) \n",
    "    plt.imshow(lena) # 显示图片\n",
    "    plt.axis('off') # 不显示坐标轴\n",
    "    plt.show()"
   ]
  },
  {
   "cell_type": "code",
   "execution_count": 11,
   "metadata": {
    "collapsed": false
   },
   "outputs": [],
   "source": [
    "# 查看图片及数值\n",
    "def check_values(standard_label):\n",
    "    # 展示图片\n",
    "    show_image(standard_label)\n",
    "\n",
    "    #读取一张图片，并显示其对应像素的通道数值\n",
    "    img=Image.open(standard_label) \n",
    "    img_array=img.load()\n",
    "    print(img.size) # 图片大小\n",
    "    print(img_array[0,0]) # [0,0]位置的通道数值\n",
    "\n",
    "    # 检查该图片除了(0,0,0)以外是否有其他通道数值\n",
    "    values = []\n",
    "    for i in range(img.size[0]):\n",
    "        for j in range(img.size[1]):\n",
    "                if img_array[i,j] not in values:\n",
    "                    values.append(img_array[i,j])\n",
    "\n",
    "    print(\"For the figure \" + standard_label +\" , there are \" + str(len(values)) + \" kinds of different values\")\n",
    "    print(values)"
   ]
  },
  {
   "cell_type": "code",
   "execution_count": 12,
   "metadata": {
    "collapsed": false
   },
   "outputs": [
    {
     "data": {
      "image/png": "[encoded data removed]",
      "text/plain": [
       "<Figure size 432x288 with 1 Axes>"
      ]
     },
     "metadata": {},
     "output_type": "display_data"
    },
    {
     "name": "stdout",
     "output_type": "stream",
     "text": [
      "(500, 333)\n",
      "(0, 0, 0)\n",
      "For the figure n01443537_12860.png , there are 2 kinds of different values\n",
      "[(0, 0, 0), (255, 255, 255)]\n"
     ]
    }
   ],
   "source": [
    "standard_label = 'n01443537_12860.png'\n",
    "check_values(standard_label)"
   ]
  },
  {
   "cell_type": "markdown",
   "metadata": {
    "collapsed": false
   },
   "source": [
    "## 5 压缩函数"
   ]
  },
  {
   "cell_type": "code",
   "execution_count": 13,
   "metadata": {
    "collapsed": false
   },
   "outputs": [],
   "source": [
    "# 将结果压缩到pred.zip中\n",
    "import zipfile\n",
    "\n",
    "def zipDir(dirpath,outFullName):\n",
    "    zip = zipfile.ZipFile(outFullName,\"w\",zipfile.ZIP_DEFLATED)\n",
    "    for path,dirnames,filenames in os.walk(dirpath):\n",
    "        # 去掉目标跟路径，只对目标文件夹下边的文件及文件夹进行压缩\n",
    "        fpath = path.replace(dirpath,'')\n",
    "\n",
    "        for filename in filenames:\n",
    "            zip.write(os.path.join(path,filename),os.path.join(fpath,filename))\n",
    "    zip.close()\n"
   ]
  },
  {
   "cell_type": "markdown",
   "metadata": {
    "collapsed": false
   },
   "source": [
    "## 6 以训练集中的标签形式进行黑白色的对比度增强"
   ]
  },
  {
   "cell_type": "code",
   "execution_count": 14,
   "metadata": {
    "collapsed": false
   },
   "outputs": [],
   "source": [
    "def access_pixels(filename, img):\n",
    "    \"\"\"遍历图像每个像素的每个通道\"\"\"\n",
    "    #print(img.shape)              #打印图像的高，宽，通道数（返回一个3元素的tuple）\n",
    "    height = img.shape[0]        #将tuple中的元素取出，赋值给height，width，channels\n",
    "    width = img.shape[1]\n",
    "    channels = img.shape[2]\n",
    "    #print(\"height:%s,width:%s,channels:%s\" % (height,width,channels))\n",
    "    #print(img.size)              #打印图像数组内总的元素数目（总数=高X宽X通道数）\n",
    "    #values = []\n",
    "    #print(img[0][0])\n",
    "    for row in range(height):    #遍历每一行\n",
    "        for col in range(width): #遍历每一列\n",
    "            # if str(img[row][col]) not in values:\n",
    "            #     values.append(str(img[row][col]))\n",
    "            if img[row][col][0] == 0 and img[row][col][1] == 0 and img[row][col][2] == 128:\n",
    "                img[row][col][0] = 0\n",
    "                img[row][col][1] = 0\n",
    "                img[row][col][2] = 0\n",
    "            else:\n",
    "                img[row][col][0] = 255\n",
    "                img[row][col][1] = 255\n",
    "                img[row][col][2] = 255\n",
    "    #         # for channel in range(channels):    #遍历每个通道（三个通道分别是BGR）\n",
    "    #         if img[row][col] not in values:\n",
    "    #             values.append(img[row][col])\n",
    "    #             print(img[row][col])\n",
    "    #             # if img[row][col][channel] != 0:\n",
    "    #             #     img[row][col][channel] = 255\n",
    "    #             # #通过数组索引访问该元素，并作出处理\n",
    "    cv2.imwrite(filename, img)\n",
    "    # print(len(values))\n",
    "    # print(values)\n"
   ]
  },
  {
   "cell_type": "code",
   "execution_count": 15,
   "metadata": {
    "collapsed": false
   },
   "outputs": [
    {
     "name": "stdout",
     "output_type": "stream",
     "text": [
      "source/pred_0804_solution18_37600_Aunk_B/ILSVRC2012_val_00000012.png\n",
      "target/test/ILSVRC2012_val_00000012.jpg\n"
     ]
    }
   ],
   "source": [
    "# 处理一张\n",
    "source_file_path = os.path.join(\"source/\" + image_file_path5, file_names5[1])\n",
    "target_file_path = os.path.join('target/test', file_names5[1][:-3]+'jpg' )\n",
    "print(source_file_path)\n",
    "print(target_file_path)\n",
    "src = cv2.imread(source_file_path)  #读取图像\n",
    "access_pixels(target_file_path, src)         #访问图像的每个元素并处理\n"
   ]
  },
  {
   "cell_type": "code",
   "execution_count": 16,
   "metadata": {
    "collapsed": false
   },
   "outputs": [
    {
     "data": {
      "image/png": "[encoded data removed]",
      "text/plain": [
       "<Figure size 432x288 with 1 Axes>"
      ]
     },
     "metadata": {},
     "output_type": "display_data"
    },
    {
     "data": {
      "image/png": "[encoded data removed]",
      "text/plain": [
       "<Figure size 432x288 with 1 Axes>"
      ]
     },
     "metadata": {},
     "output_type": "display_data"
    }
   ],
   "source": [
    "show_image(source_file_path)\n",
    "show_image(target_file_path)"
   ]
  },
  {
   "cell_type": "code",
   "execution_count": 17,
   "metadata": {
    "collapsed": false
   },
   "outputs": [
    {
     "name": "stdout",
     "output_type": "stream",
     "text": [
      "progress: 0.00%\n",
      "progress: 0.91%\n",
      "progress: 1.82%\n",
      "progress: 2.73%\n",
      "progress: 3.64%\n",
      "progress: 4.55%\n",
      "progress: 5.46%\n",
      "progress: 6.37%\n",
      "progress: 7.28%\n",
      "progress: 8.19%\n",
      "progress: 9.10%\n",
      "progress: 10.01%\n",
      "progress: 10.92%\n",
      "progress: 11.83%\n",
      "progress: 12.74%\n",
      "progress: 13.65%\n",
      "progress: 14.56%\n",
      "progress: 15.47%\n",
      "progress: 16.38%\n",
      "progress: 17.29%\n",
      "progress: 18.20%\n",
      "progress: 19.11%\n",
      "progress: 20.02%\n",
      "progress: 20.93%\n",
      "progress: 21.84%\n",
      "progress: 22.75%\n",
      "progress: 23.66%\n",
      "progress: 24.57%\n",
      "progress: 25.48%\n",
      "progress: 26.39%\n",
      "progress: 27.30%\n",
      "progress: 28.21%\n",
      "progress: 29.12%\n",
      "progress: 30.03%\n",
      "progress: 30.94%\n",
      "progress: 31.85%\n",
      "progress: 32.76%\n",
      "progress: 33.67%\n",
      "progress: 34.58%\n",
      "progress: 35.49%\n",
      "progress: 36.40%\n",
      "progress: 37.31%\n",
      "progress: 38.22%\n",
      "progress: 39.13%\n",
      "progress: 40.04%\n",
      "progress: 40.95%\n",
      "progress: 41.86%\n",
      "progress: 42.77%\n",
      "progress: 43.68%\n",
      "progress: 44.59%\n",
      "progress: 45.50%\n",
      "progress: 46.41%\n",
      "progress: 47.32%\n",
      "progress: 48.23%\n",
      "progress: 49.14%\n",
      "progress: 50.05%\n",
      "progress: 50.96%\n",
      "progress: 51.87%\n",
      "progress: 52.78%\n",
      "progress: 53.69%\n",
      "progress: 54.60%\n",
      "progress: 55.51%\n",
      "progress: 56.42%\n",
      "progress: 57.33%\n",
      "progress: 58.24%\n",
      "progress: 59.15%\n",
      "progress: 60.06%\n",
      "progress: 60.97%\n",
      "progress: 61.88%\n",
      "progress: 62.79%\n",
      "progress: 63.70%\n",
      "progress: 64.61%\n",
      "progress: 65.52%\n",
      "progress: 66.43%\n",
      "progress: 67.34%\n",
      "progress: 68.25%\n",
      "progress: 69.16%\n",
      "progress: 70.07%\n",
      "progress: 70.98%\n",
      "progress: 71.89%\n",
      "progress: 72.80%\n",
      "progress: 73.71%\n",
      "progress: 74.62%\n",
      "progress: 75.53%\n",
      "progress: 76.44%\n",
      "progress: 77.35%\n",
      "progress: 78.26%\n",
      "progress: 79.17%\n",
      "progress: 80.08%\n",
      "progress: 80.99%\n",
      "progress: 81.90%\n",
      "progress: 82.81%\n",
      "progress: 83.72%\n",
      "progress: 84.63%\n",
      "progress: 85.54%\n",
      "progress: 86.45%\n",
      "progress: 87.36%\n",
      "progress: 88.27%\n",
      "progress: 89.18%\n",
      "progress: 90.09%\n",
      "progress: 91.00%\n",
      "progress: 91.91%\n",
      "progress: 92.82%\n",
      "progress: 93.73%\n",
      "progress: 94.64%\n",
      "progress: 95.55%\n",
      "progress: 96.46%\n",
      "progress: 97.37%\n",
      "progress: 98.28%\n",
      "progress: 99.19%\n"
     ]
    }
   ],
   "source": [
    "# !mkdir target/pred_0730_solution16_31000_enlage_ORC_Aunk_B/\n",
    "# !mkdir target/pred_0730_solution15_31000_enlage_dv3p_Aunk_B/\n",
    "# !mkdir target/pred_0730_solution16_17500_Aunk_B/\n",
    "# !mkdir target/0803_solution17_57500_Aunk_B/\n",
    "!mkdir target/pred_0804_solution18_37600_Aunk_B/\n",
    "# !mkdir target/0804_solution19_60000_Aunk_B/\n",
    "\n",
    "#转换所有图片\n",
    "def make_zero_one(file_names,temp_path):\n",
    "    image_file_path_source = 'source/' + temp_path\n",
    "    image_file_path_target = 'target/' + temp_path\n",
    "    for index, fn in enumerate(file_names):\n",
    "        source_file_path = os.path.join(image_file_path_source, file_names[index])\n",
    "        target_file_path = os.path.join(image_file_path_target, file_names[index])\n",
    "        src = cv2.imread(source_file_path)  #读取图像\n",
    "        access_pixels(target_file_path, src)         #访问图像的每个元素并处理\n",
    "        if index % 100 == 0:\n",
    "            print(\"progress: {:.2%}\".format(index/len(file_names)))\n",
    "\n",
    "\n",
    "# make_zero_one(file_names1,image_file_path1)\n",
    "# make_zero_one(file_names2,image_file_path2)\n",
    "# make_zero_one(file_names3,image_file_path3)\n",
    "# make_zero_one(file_names4,image_file_path4)\n",
    "make_zero_one(file_names5,image_file_path5)\n",
    "# make_zero_one(file_names6,image_file_path6)"
   ]
  },
  {
   "cell_type": "code",
   "execution_count": 18,
   "metadata": {
    "collapsed": false
   },
   "outputs": [
    {
     "data": {
      "image/png": "[encoded data removed]",
      "text/plain": [
       "<Figure size 432x288 with 1 Axes>"
      ]
     },
     "metadata": {},
     "output_type": "display_data"
    },
    {
     "name": "stdout",
     "output_type": "stream",
     "text": [
      "(500, 334)\n",
      "0\n",
      "For the figure source/pred_0804_solution18_37600_Aunk_B/ILSVRC2012_val_00000012.png , there are 2 kinds of different values\n",
      "[0, 1]\n"
     ]
    },
    {
     "data": {
      "image/png": "[encoded data removed]",
      "text/plain": [
       "<Figure size 432x288 with 1 Axes>"
      ]
     },
     "metadata": {},
     "output_type": "display_data"
    },
    {
     "name": "stdout",
     "output_type": "stream",
     "text": [
      "(500, 334)\n",
      "(0, 0, 0)\n",
      "For the figure target/test/ILSVRC2012_val_00000012.jpg , there are 16 kinds of different values\n",
      "[(0, 0, 0), (255, 255, 255), (252, 252, 252), (1, 1, 1), (4, 4, 4), (254, 254, 254), (253, 253, 253), (2, 2, 2), (3, 3, 3), (251, 251, 251), (5, 5, 5), (6, 6, 6), (249, 249, 249), (7, 7, 7), (250, 250, 250), (248, 248, 248)]\n"
     ]
    },
    {
     "data": {
      "image/png": "[encoded data removed]",
      "text/plain": [
       "<Figure size 432x288 with 1 Axes>"
      ]
     },
     "metadata": {},
     "output_type": "display_data"
    },
    {
     "name": "stdout",
     "output_type": "stream",
     "text": [
      "(500, 333)\n",
      "(0, 0, 0)\n",
      "For the figure n01443537_12860.png , there are 2 kinds of different values\n",
      "[(0, 0, 0), (255, 255, 255)]\n"
     ]
    }
   ],
   "source": [
    "check_values(source_file_path)\n",
    "check_values(target_file_path)\n",
    "check_values(standard_label)"
   ]
  },
  {
   "cell_type": "markdown",
   "metadata": {
    "collapsed": false
   },
   "source": [
    "### 压缩图片"
   ]
  },
  {
   "cell_type": "code",
   "execution_count": 19,
   "metadata": {
    "collapsed": false
   },
   "outputs": [
    {
     "name": "stdout",
     "output_type": "stream",
     "text": [
      "/\n",
      "10989\n"
     ]
    }
   ],
   "source": [
    "import shutil\n",
    "\n",
    "def make_jpg(s_filepath, t_filepath):\n",
    "    shutil.copytree(s_filepath,t_filepath)\n",
    "    fileList = os.listdir(s_filepath)\n",
    "    print(os.sep)\n",
    "    print(len(fileList))\n",
    "    for fn in fileList:\n",
    "        oldname = t_filepath + os.sep + fn\n",
    "        newname = t_filepath + os.sep + fn[:-4] + '.jpg'\n",
    "        os.rename(oldname,newname)\n",
    "\n",
    "# make_jpg('target/'+image_file_path1, 'target/'+image_file_path1+'_jpg')\n",
    "# make_jpg('target/'+image_file_path2, 'target/'+image_file_path2+'_jpg')\n",
    "# make_jpg('target/'+image_file_path3, 'target/'+image_file_path3+'_jpg')\n",
    "# make_jpg('target/'+image_file_path4, 'target/'+image_file_path4+'_jpg')\n",
    "make_jpg('target/'+image_file_path5, 'target/'+image_file_path5+'_jpg')\n",
    "# make_jpg('target/'+image_file_path6, 'target/'+image_file_path6+'_jpg')"
   ]
  },
  {
   "cell_type": "code",
   "execution_count": 20,
   "metadata": {
    "collapsed": false
   },
   "outputs": [],
   "source": [
    "\n",
    "# zipDir('target/'+image_file_path1+'_jpg', image_file_path1+'_jpg.zip')\n",
    "# zipDir('target/'+image_file_path2+'_jpg', image_file_path2+'_jpg.zip')\n",
    "# zipDir('target/'+image_file_path3+'_jpg', image_file_path3+'_jpg.zip')\n",
    "# zipDir('target/'+image_file_path4+'_jpg', image_file_path4+'_jpg.zip')\n",
    "zipDir('target/'+image_file_path5+'_jpg', image_file_path5+'_jpg.zip')\n",
    "# zipDir('target/'+image_file_path6+'_jpg', image_file_path6+'_jpg.zip')"
   ]
  }
 ],
 "metadata": {
  "kernelspec": {
   "display_name": "PaddlePaddle 2.1.0 (Python 3.5)",
   "language": "python",
   "name": "py35-paddle1.2.0"
  },
  "language_info": {
   "codemirror_mode": {
    "name": "ipython",
    "version": 3
   },
   "file_extension": ".py",
   "mimetype": "text/x-python",
   "name": "python",
   "nbconvert_exporter": "python",
   "pygments_lexer": "ipython3",
   "version": "3.7.4"
  }
 },
 "nbformat": 4,
 "nbformat_minor": 1
}
